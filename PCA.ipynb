{
 "cells": [
  {
   "cell_type": "markdown",
   "id": "72808ae0",
   "metadata": {},
   "source": [
    "# PCA"
   ]
  },
  {
   "cell_type": "markdown",
   "id": "9da83d85",
   "metadata": {},
   "source": [
    "Importing MNIST dataet and necessary libaries"
   ]
  },
  {
   "cell_type": "code",
   "execution_count": 1,
   "id": "7c856647",
   "metadata": {},
   "outputs": [],
   "source": [
    "from sklearn.datasets import load_digits\n",
    "import pandas as pd\n",
    "import numpy as np\n",
    "import matplotlib.pyplot as plt"
   ]
  },
  {
   "cell_type": "markdown",
   "id": "d2f2a3d5",
   "metadata": {},
   "source": [
    "## Load MNIST Dataset "
   ]
  },
  {
   "cell_type": "code",
   "execution_count": 2,
   "id": "ad3f9b1b",
   "metadata": {},
   "outputs": [],
   "source": [
    "mnist_data = load_digits().data"
   ]
  },
  {
   "cell_type": "code",
   "execution_count": 3,
   "id": "acc81673",
   "metadata": {},
   "outputs": [
    {
     "data": {
      "text/plain": [
       "(1797, 64)"
      ]
     },
     "execution_count": 3,
     "metadata": {},
     "output_type": "execute_result"
    }
   ],
   "source": [
    "mnist_data.shape"
   ]
  },
  {
   "cell_type": "code",
   "execution_count": 4,
   "id": "27170f2c",
   "metadata": {},
   "outputs": [
    {
     "name": "stdout",
     "output_type": "stream",
     "text": [
      "[ 0.  0.  5. 13.  9.  1.  0.  0.  0.  0. 13. 15. 10. 15.  5.  0.  0.  3.\n",
      " 15.  2.  0. 11.  8.  0.  0.  4. 12.  0.  0.  8.  8.  0.  0.  5.  8.  0.\n",
      "  0.  9.  8.  0.  0.  4. 11.  0.  1. 12.  7.  0.  0.  2. 14.  5. 10. 12.\n",
      "  0.  0.  0.  0.  6. 13. 10.  0.  0.  0.]\n",
      "(64,)\n"
     ]
    }
   ],
   "source": [
    "print(mnist_data[0])\n",
    "print(mnist_data[0].shape)"
   ]
  },
  {
   "cell_type": "code",
   "execution_count": 5,
   "id": "3ad75f4f",
   "metadata": {},
   "outputs": [],
   "source": [
    "resized_sample =np.resize(mnist_data[0], (8,8))"
   ]
  },
  {
   "cell_type": "code",
   "execution_count": 6,
   "id": "e93d164b",
   "metadata": {},
   "outputs": [
    {
     "data": {
      "image/png": "[encoded data removed]",
      "text/plain": [
       "<Figure size 432x288 with 1 Axes>"
      ]
     },
     "metadata": {
      "needs_background": "light"
     },
     "output_type": "display_data"
    }
   ],
   "source": [
    "plt.imshow(resized_sample)\n",
    "plt.show()"
   ]
  },
  {
   "cell_type": "markdown",
   "id": "df921305",
   "metadata": {},
   "source": [
    "### * What is PCA?\n",
    "* Principal Component Analysis, It is use for dimensionality reduction. \n",
    "* We can convert our high dimension data into lower dimension.\n",
    "* We'll see an example reducing dimention of MNIST dataset which has 64 dimention."
   ]
  },
  {
   "cell_type": "code",
   "execution_count": 7,
   "id": "cfe52277",
   "metadata": {},
   "outputs": [],
   "source": [
    "# Import PCA from sklearn\n",
    "from sklearn.decomposition import PCA"
   ]
  },
  {
   "cell_type": "code",
   "execution_count": 8,
   "id": "07e35fb6",
   "metadata": {},
   "outputs": [],
   "source": [
    "dimension_reduction = PCA(n_components=49)\n",
    "reduced_mnist=dimension_reduction.fit_transform(mnist_data)"
   ]
  },
  {
   "cell_type": "code",
   "execution_count": 9,
   "id": "31a269f3",
   "metadata": {},
   "outputs": [
    {
     "data": {
      "text/plain": [
       "{'copy': True,\n",
       " 'iterated_power': 'auto',\n",
       " 'n_components': 49,\n",
       " 'random_state': None,\n",
       " 'svd_solver': 'auto',\n",
       " 'tol': 0.0,\n",
       " 'whiten': False}"
      ]
     },
     "execution_count": 9,
     "metadata": {},
     "output_type": "execute_result"
    }
   ],
   "source": [
    "dimension_reduction.get_params()"
   ]
  },
  {
   "cell_type": "code",
   "execution_count": 10,
   "id": "0ca8476b",
   "metadata": {},
   "outputs": [
    {
     "data": {
      "text/plain": [
       "(1797, 49)"
      ]
     },
     "execution_count": 10,
     "metadata": {},
     "output_type": "execute_result"
    }
   ],
   "source": [
    "reduced_mnist.shape"
   ]
  },
  {
   "cell_type": "code",
   "execution_count": 11,
   "id": "d61adfd0",
   "metadata": {},
   "outputs": [
    {
     "data": {
      "text/plain": [
       "<matplotlib.image.AxesImage at 0x7f6ea36056d0>"
      ]
     },
     "execution_count": 11,
     "metadata": {},
     "output_type": "execute_result"
    },
    {
     "data": {
      "image/png": "[encoded data removed]",
      "text/plain": [
       "<Figure size 432x288 with 1 Axes>"
      ]
     },
     "metadata": {
      "needs_background": "light"
     },
     "output_type": "display_data"
    }
   ],
   "source": [
    "plt.imshow(np.resize(reduced_mnist[0], (7,7)))"
   ]
  },
  {
   "cell_type": "markdown",
   "id": "e0d29edb",
   "metadata": {},
   "source": [
    "# Visualization of high dimension dataset "
   ]
  },
  {
   "cell_type": "code",
   "execution_count": 12,
   "id": "49b457c4",
   "metadata": {},
   "outputs": [],
   "source": [
    "import tensorflow as tf"
   ]
  },
  {
   "cell_type": "code",
   "execution_count": 13,
   "id": "51839454",
   "metadata": {},
   "outputs": [],
   "source": [
    "fashion_mnist = tf.keras.datasets.fashion_mnist"
   ]
  },
  {
   "cell_type": "code",
   "execution_count": 14,
   "id": "e1f4afa0",
   "metadata": {},
   "outputs": [],
   "source": [
    "(train_images, train_labels), (test_images, test_labels) = fashion_mnist.load_data()"
   ]
  },
  {
   "cell_type": "code",
   "execution_count": 15,
   "id": "d1cdad37",
   "metadata": {},
   "outputs": [
    {
     "data": {
      "image/png": "[encoded data removed]",
      "text/plain": [
       "<Figure size 360x360 with 1 Axes>"
      ]
     },
     "metadata": {
      "needs_background": "light"
     },
     "output_type": "display_data"
    }
   ],
   "source": [
    "plt.figure(figsize=(5,5))\n",
    "plt.imshow(train_images[0])\n",
    "plt.show()"
   ]
  },
  {
   "cell_type": "code",
   "execution_count": 16,
   "id": "05705f0b",
   "metadata": {},
   "outputs": [
    {
     "data": {
      "text/plain": [
       "(60000, 28, 28)"
      ]
     },
     "execution_count": 16,
     "metadata": {},
     "output_type": "execute_result"
    }
   ],
   "source": [
    "train_images.shape"
   ]
  },
  {
   "cell_type": "markdown",
   "id": "721e4a60",
   "metadata": {},
   "source": [
    "## Change the shape of train images\n",
    "### Flatter the image"
   ]
  },
  {
   "cell_type": "code",
   "execution_count": 17,
   "id": "5b72a806",
   "metadata": {},
   "outputs": [],
   "source": [
    "resized_train_images=np.resize(train_images, (60000, 28*28))"
   ]
  },
  {
   "cell_type": "code",
   "execution_count": 9,
   "id": "4fd98bb9",
   "metadata": {},
   "outputs": [
    {
     "data": {
      "text/plain": [
       "(60000, 784)"
      ]
     },
     "execution_count": 9,
     "metadata": {},
     "output_type": "execute_result"
    }
   ],
   "source": [
    "resized_train_images.shape\n",
    "# Now we have data with 784 features"
   ]
  },
  {
   "cell_type": "code",
   "execution_count": 18,
   "id": "533a5435",
   "metadata": {},
   "outputs": [
    {
     "name": "stdout",
     "output_type": "stream",
     "text": [
      "(60000, 784)\n"
     ]
    }
   ],
   "source": [
    "from sklearn.preprocessing import StandardScaler\n",
    "standardized_data = StandardScaler().fit_transform(resized_train_images)\n",
    "print(standardized_data.shape)"
   ]
  },
  {
   "cell_type": "markdown",
   "id": "0642f004",
   "metadata": {},
   "source": [
    "## Co-Variance Matrics\n",
    "= Dot_Product(A.T, A)"
   ]
  },
  {
   "cell_type": "code",
   "execution_count": 19,
   "id": "c5323014",
   "metadata": {},
   "outputs": [
    {
     "name": "stdout",
     "output_type": "stream",
     "text": [
      "(784, 784)\n"
     ]
    }
   ],
   "source": [
    "covariance_matrix = np.matmul(standardized_data.T , standardized_data )\n",
    "print(covariance_matrix.shape)"
   ]
  },
  {
   "cell_type": "markdown",
   "id": "b297dc81",
   "metadata": {},
   "source": [
    "## Eigen Values and Eigen Vector"
   ]
  },
  {
   "cell_type": "code",
   "execution_count": 20,
   "id": "c7ed1934",
   "metadata": {},
   "outputs": [
    {
     "name": "stdout",
     "output_type": "stream",
     "text": [
      "(2,)\n",
      "(784, 2)\n"
     ]
    }
   ],
   "source": [
    "from scipy.linalg import eigh\n",
    "values ,  vectors = eigh(covariance_matrix, eigvals=(782, 783))\n",
    "print(values.shape)\n",
    "print(vectors.shape)"
   ]
  },
  {
   "cell_type": "code",
   "execution_count": 21,
   "id": "cf6d85d2",
   "metadata": {},
   "outputs": [
    {
     "name": "stdout",
     "output_type": "stream",
     "text": [
      "(2, 784)\n"
     ]
    }
   ],
   "source": [
    "# change the shape of veator\n",
    "vectors= vectors.T\n",
    "print(vectors.shape)"
   ]
  },
  {
   "cell_type": "code",
   "execution_count": 22,
   "id": "baa602ad",
   "metadata": {},
   "outputs": [
    {
     "name": "stdout",
     "output_type": "stream",
     "text": [
      "(2, 60000)\n"
     ]
    }
   ],
   "source": [
    "# we have vectors and original points\n",
    "# Project original points over fearured vectors\n",
    "new_coordinates = np.matmul(vectors , standardized_data.T)\n",
    "print(new_coordinates.shape)"
   ]
  },
  {
   "cell_type": "code",
   "execution_count": 23,
   "id": "ad19f18a",
   "metadata": {},
   "outputs": [
    {
     "data": {
      "text/plain": [
       "(60000, 3)"
      ]
     },
     "execution_count": 23,
     "metadata": {},
     "output_type": "execute_result"
    }
   ],
   "source": [
    "new_coordinates = np.vstack((new_coordinates ,train_labels)).T\n",
    "new_coordinates.shape\n"
   ]
  },
  {
   "cell_type": "code",
   "execution_count": 24,
   "id": "688ebfe4",
   "metadata": {},
   "outputs": [],
   "source": [
    "df = pd.DataFrame(new_coordinates , columns= ('Feature_1','Feature_2' , 'labels'))"
   ]
  },
  {
   "cell_type": "code",
   "execution_count": 25,
   "id": "ceac77c8",
   "metadata": {},
   "outputs": [
    {
     "data": {
      "text/html": [
       "<div>\n",
       "<style scoped>\n",
       "    .dataframe tbody tr th:only-of-type {\n",
       "        vertical-align: middle;\n",
       "    }\n",
       "\n",
       "    .dataframe tbody tr th {\n",
       "        vertical-align: top;\n",
       "    }\n",
       "\n",
       "    .dataframe thead th {\n",
       "        text-align: right;\n",
       "    }\n",
       "</style>\n",
       "<table border=\"1\" class=\"dataframe\">\n",
       "  <thead>\n",
       "    <tr style=\"text-align: right;\">\n",
       "      <th></th>\n",
       "      <th>Feature_1</th>\n",
       "      <th>Feature_2</th>\n",
       "      <th>labels</th>\n",
       "    </tr>\n",
       "  </thead>\n",
       "  <tbody>\n",
       "    <tr>\n",
       "      <th>0</th>\n",
       "      <td>20.866749</td>\n",
       "      <td>0.801175</td>\n",
       "      <td>9.0</td>\n",
       "    </tr>\n",
       "    <tr>\n",
       "      <th>1</th>\n",
       "      <td>-4.968512</td>\n",
       "      <td>-17.074206</td>\n",
       "      <td>0.0</td>\n",
       "    </tr>\n",
       "    <tr>\n",
       "      <th>2</th>\n",
       "      <td>-12.296101</td>\n",
       "      <td>9.601641</td>\n",
       "      <td>0.0</td>\n",
       "    </tr>\n",
       "    <tr>\n",
       "      <th>3</th>\n",
       "      <td>-11.576765</td>\n",
       "      <td>0.311206</td>\n",
       "      <td>3.0</td>\n",
       "    </tr>\n",
       "    <tr>\n",
       "      <th>4</th>\n",
       "      <td>-12.867738</td>\n",
       "      <td>-8.963833</td>\n",
       "      <td>0.0</td>\n",
       "    </tr>\n",
       "  </tbody>\n",
       "</table>\n",
       "</div>"
      ],
      "text/plain": [
       "   Feature_1  Feature_2  labels\n",
       "0  20.866749   0.801175     9.0\n",
       "1  -4.968512 -17.074206     0.0\n",
       "2 -12.296101   9.601641     0.0\n",
       "3 -11.576765   0.311206     3.0\n",
       "4 -12.867738  -8.963833     0.0"
      ]
     },
     "execution_count": 25,
     "metadata": {},
     "output_type": "execute_result"
    }
   ],
   "source": [
    "df.head()"
   ]
  },
  {
   "cell_type": "code",
   "execution_count": 26,
   "id": "78f9f4e1",
   "metadata": {},
   "outputs": [
    {
     "name": "stderr",
     "output_type": "stream",
     "text": [
      "/home/prateeksahu147/.local/lib/python3.8/site-packages/seaborn/axisgrid.py:316: UserWarning: The `size` parameter has been renamed to `height`; please update your code.\n",
      "  warnings.warn(msg, UserWarning)\n"
     ]
    },
    {
     "data": {
      "image/png": "[encoded data removed]",
      "text/plain": [
       "<Figure size 483.875x432 with 1 Axes>"
      ]
     },
     "metadata": {
      "needs_background": "light"
     },
     "output_type": "display_data"
    }
   ],
   "source": [
    "import seaborn as sns\n",
    "sns.FacetGrid(df , hue=\"labels\" ,size=6 ).map(plt.scatter , 'Feature_1', 'Feature_2').add_legend()\n",
    "plt.show()"
   ]
  },
  {
   "cell_type": "code",
   "execution_count": 27,
   "id": "1f6cbb09",
   "metadata": {},
   "outputs": [],
   "source": [
    "from sklearn.manifold import TSNE"
   ]
  },
  {
   "cell_type": "code",
   "execution_count": 28,
   "id": "28fa8654",
   "metadata": {},
   "outputs": [],
   "source": [
    "data_tsne = standardized_data[0:15000 , :]\n",
    "tsne = TSNE().fit_transform(data_tsne)"
   ]
  },
  {
   "cell_type": "code",
   "execution_count": 30,
   "id": "bab3096b",
   "metadata": {},
   "outputs": [
    {
     "data": {
      "text/plain": [
       "array([[ 33.643864  ,  43.89492   ],\n",
       "       [  6.240841  , -64.057556  ],\n",
       "       [-15.832922  , -31.380056  ],\n",
       "       ...,\n",
       "       [ -5.450619  , -62.827057  ],\n",
       "       [ 11.057906  ,  12.616639  ],\n",
       "       [-13.771859  ,   0.18264267]], dtype=float32)"
      ]
     },
     "execution_count": 30,
     "metadata": {},
     "output_type": "execute_result"
    }
   ],
   "source": [
    "import seaborn as sns\n",
    "sns.FacetGrid(df , hue=\"labels\" ,size=6 ).map(plt.scatter , 'Feature_1', 'Feature_2').add_legend()\n",
    "plt.show()"
   ]
  },
  {
   "cell_type": "code",
   "execution_count": 32,
   "id": "e07be57d",
   "metadata": {},
   "outputs": [
    {
     "data": {
      "text/plain": [
       "(15000, 2)"
      ]
     },
     "execution_count": 32,
     "metadata": {},
     "output_type": "execute_result"
    }
   ],
   "source": [
    "tsne.shape"
   ]
  },
  {
   "cell_type": "code",
   "execution_count": 36,
   "id": "b18ba302",
   "metadata": {},
   "outputs": [
    {
     "data": {
      "text/plain": [
       "(15000, 1)"
      ]
     },
     "execution_count": 36,
     "metadata": {},
     "output_type": "execute_result"
    }
   ],
   "source": [
    "tsne[:,1:].shape"
   ]
  },
  {
   "cell_type": "code",
   "execution_count": null,
   "id": "a5132600",
   "metadata": {},
   "outputs": [],
   "source": []
  }
 ],
 "metadata": {
  "kernelspec": {
   "display_name": "Python 3",
   "language": "python",
   "name": "python3"
  },
  "language_info": {
   "codemirror_mode": {
    "name": "ipython",
    "version": 3
   },
   "file_extension": ".py",
   "mimetype": "text/x-python",
   "name": "python",
   "nbconvert_exporter": "python",
   "pygments_lexer": "ipython3",
   "version": "3.8.10"
  }
 },
 "nbformat": 4,
 "nbformat_minor": 5
}
